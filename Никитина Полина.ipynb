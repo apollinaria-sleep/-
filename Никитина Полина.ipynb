{
 "cells": [
  {
   "cell_type": "code",
   "execution_count": 1,
   "metadata": {},
   "outputs": [],
   "source": [
    "import cv2\n",
    "import numpy as np\n",
    "import matplotlib.pyplot as plt"
   ]
  },
  {
   "cell_type": "markdown",
   "metadata": {},
   "source": [
    "**Предварительная обработка**"
   ]
  },
  {
   "cell_type": "code",
   "execution_count": 2,
   "metadata": {},
   "outputs": [],
   "source": [
    "import math\n",
    "\n",
    "def bilinear_kernel(src, x, y):\n",
    "    x1 = int(math.floor(x))\n",
    "    y1 = int(math.floor(y))\n",
    "    x2 = min(x1 + 1, src.shape[1] - 1)\n",
    "    y2 = min(y1 + 1, src.shape[0] - 1)\n",
    "\n",
    "    i_11 = src[y1, x1, :]\n",
    "    i_12 = src[y2, x1, :]\n",
    "    i_21 = src[y1, x2, :]\n",
    "    i_22 = src[y2, x2, :]\n",
    "\n",
    "    return i_11 * (x2 - x) * (y2 - y) + \\\n",
    "           i_12 * (x2 - x) * (y - y1) + \\\n",
    "           i_21 * (x - x1) * (y2 - y) + \\\n",
    "           i_22 * (x - x1) * (y - y1)"
   ]
  },
  {
   "cell_type": "code",
   "execution_count": 3,
   "metadata": {},
   "outputs": [
    {
     "data": {
      "text/plain": [
       "True"
      ]
     },
     "execution_count": 3,
     "metadata": {},
     "output_type": "execute_result"
    }
   ],
   "source": [
    "i = cv2.imread(\"./img.png\")\n",
    "i = cv2.cvtColor(i, cv2.COLOR_BGR2RGB)\n",
    "img = i\n",
    "plt.imshow(i)\n",
    "cv2.imwrite(\"out.png\", i)"
   ]
  },
  {
   "cell_type": "code",
   "execution_count": 4,
   "metadata": {},
   "outputs": [
    {
     "name": "stdout",
     "output_type": "stream",
     "text": [
      "K =  [[943.37   0.   990.38]\n",
      " [  0.   943.37 487.67]\n",
      " [  0.     0.     1.  ]]\n",
      "D =  [-0.3229  0.1042  0.      0.     -0.0148]\n",
      "image_size =  (1920, 1080)\n"
     ]
    }
   ],
   "source": [
    "# Параметры центральной проекции\n",
    "f_x = 943.37 # пиксельное фокусное расстояние по оси X\n",
    "f_y = 943.37 # пиксельное фокусное расстояние по оси Y\n",
    "u_x = 990.38 # координаты центрального пикселя (principal point) по X \n",
    "u_y = 487.67 # координаты центрального пикселя (principal point) по Y\n",
    "\n",
    "# Матрица центральной проекции\n",
    "K = np.array(\n",
    "    [\n",
    "        [f_x, 0.0, u_x],\n",
    "        [0.0, f_y, u_y],\n",
    "        [0.0, 0.0, 1.0]\n",
    "    ],\n",
    "    dtype=np.float32 # opencv работает с float32\n",
    ")\n",
    "\n",
    "# Параметры радиальной дисторсии\n",
    "k_1 = -0.3229\n",
    "k_2 = 0.1042\n",
    "k_3 = -0.0148\n",
    "\n",
    "D = np.array([k_1, k_2, 0.0, 0.0, k_3], dtype=np.float32)\n",
    "\n",
    "# Размеры изображения\n",
    "image_size = (1920, 1080)\n",
    "\n",
    "# Углы поворота с.к. камеры\n",
    "r_1 = -0.6344\n",
    "r_2 = -0.0416\n",
    "r_3 = 0.0157\n",
    "\n",
    "# координаты установки камеры в с.к. робота\n",
    "t_1 = -0.378\n",
    "t_2 = -3.915\n",
    "t_3 = 2.400\n",
    "\n",
    "print('K = ', K)\n",
    "print('D = ', D)\n",
    "print('image_size = ', image_size)"
   ]
  },
  {
   "cell_type": "code",
   "execution_count": 5,
   "metadata": {},
   "outputs": [
    {
     "name": "stdout",
     "output_type": "stream",
     "text": [
      "R|t = \n",
      "[[ 9.9904436e-01  2.7419649e-02  3.4037601e-02  4.0329644e-01]\n",
      " [-1.9061693e-03  8.0534059e-01 -5.9280938e-01  4.5749302e+00]\n",
      " [-4.3666486e-02  5.9217793e-01  8.0462325e-01  3.7077475e-01]]\n",
      "P = \n",
      "[[ 8.9922205e+02  6.1234808e+02  8.2899280e+02  7.4766565e+02]\n",
      " [-2.3093060e+01  1.0485216e+03 -1.6684796e+02  4.4966680e+03]\n",
      " [-4.3666486e-02  5.9217793e-01  8.0462325e-01  3.7077475e-01]]\n",
      "(1113.5072910064018, 833.5273180128322)\n",
      "(1100.626484986871, 672.4190894127535)\n",
      "(1091.1986053765831, 554.4987526601302)\n",
      "(1416.2742925893558, 332.96000424490273)\n",
      "(1226.1139613020323, 66.76546189704504)\n"
     ]
    }
   ],
   "source": [
    "import numpy.linalg\n",
    "# матрица поворота\n",
    "R = np.linalg.inv(cv2.Rodrigues(np.array([r_1, r_2, r_3], dtype=np.float32))[0])\n",
    "\n",
    "t = np.array([[t_1], [t_2], [t_3]], dtype=np.float32)\n",
    "RT = np.hstack((R, -R@t))\n",
    "print(f\"R|t = \\n{RT}\")\n",
    "\n",
    "# матрица камеры наблюдения\n",
    "P = K @ RT\n",
    "print(f\"P = \\n{P}\")\n",
    "\n",
    "def proj_pt(P, r):\n",
    "    h_pix = P @ np.hstack((r, [1]))\n",
    "    return (h_pix[0] / h_pix[2], h_pix[1] / h_pix[2])\n",
    "\n",
    "print(proj_pt(P, [0,0,5]))\n",
    "print(proj_pt(P, [0,0,6]))\n",
    "print(proj_pt(P, [0,0,7]))\n",
    "print(proj_pt(P, [3,0,10]))\n",
    "print(proj_pt(P, [3,0,20]))"
   ]
  },
  {
   "cell_type": "code",
   "execution_count": 6,
   "metadata": {},
   "outputs": [
    {
     "name": "stdout",
     "output_type": "stream",
     "text": [
      "[[ 1.0000000e+00  4.4411674e-09 -4.2468650e-06]\n",
      " [ 7.6142292e-10  1.0000000e+00  6.4000924e-06]\n",
      " [-1.9657689e-12 -2.6244215e-12  9.9999994e-01]]\n"
     ]
    }
   ],
   "source": [
    "# уравнение плоскости проекции\n",
    "plane = np.array([0,1,0,0], dtype=np.float32) # Y = 0\n",
    "\n",
    "# применим формулы для вычисления гомографии с предыдущей лекции\n",
    "P_plane = np.vstack((P, plane))\n",
    "H = P @ np.linalg.inv(P_plane)[:, :3]\n",
    "rH = np.linalg.inv(K).dot(H).dot(K)\n",
    "\n",
    "print(H)"
   ]
  },
  {
   "cell_type": "markdown",
   "metadata": {},
   "source": [
    "## Задача 1\n",
    "Напишите класс для вычисления карты пересчета undistort-преобразования.\n",
    "Сравните результат с выводом функции cv2.initUndistortRectifyMap"
   ]
  },
  {
   "cell_type": "code",
   "execution_count": 7,
   "metadata": {},
   "outputs": [
    {
     "data": {
      "text/plain": [
       "True"
      ]
     },
     "execution_count": 7,
     "metadata": {},
     "output_type": "execute_result"
    }
   ],
   "source": [
    "# вывод функции cv2.initUnistortRectifyMap\n",
    "rmap_x, rmap_y = cv2.initUndistortRectifyMap(K, D, rH, K, image_size, cv2.CV_32FC1)\n",
    "lib_undistort = cv2.remap(i, rmap_x, rmap_y, interpolation=cv2.INTER_LINEAR)\n",
    "\n",
    "cv2.imwrite(\"lib_undistort.png\", lib_undistort)"
   ]
  },
  {
   "cell_type": "markdown",
   "metadata": {},
   "source": [
    "![undistirt-преобразование с помощью cv2](./lib_undistort.png)"
   ]
  },
  {
   "cell_type": "code",
   "execution_count": 8,
   "metadata": {},
   "outputs": [],
   "source": [
    "class UndistortRemap:\n",
    "    def __init__(self, image_size, K, D, rH):\n",
    "        self.image_size = image_size\n",
    "        self.K = K\n",
    "        self.D = D\n",
    "        self.rH = rH\n",
    "        \n",
    "    def r2(self, x, y):\n",
    "        return (x**2 + y**2)\n",
    "    \n",
    "    def coef(self, x, y):\n",
    "        r2_ = self.r2(x, y)\n",
    "        r4_ = r2_ ** 2\n",
    "        r6_ = r4_ * r2_\n",
    "        return (1 + self.D[0] * r2_ + self.D[1] * r4_ + self.D[4] * r6_)\n",
    "        \n",
    "    def normalize(self, x, y):\n",
    "        return ((x - self.K[0][2]) / self.K[0][0], (y - self.K[1][2]) / self.K[1][1])\n",
    "    \n",
    "    def unnormalize(self, x, y):\n",
    "        return (x * self.K[0][0] + self.K[0][2], y * self.K[1][1] + self.K[1][2])\n",
    "    \n",
    "    def proj(self, x, y):\n",
    "        pt_homo = np.linalg.inv(self.rH).dot(np.array([x, y, 1], dtype=np.float32).T)\n",
    "        return (pt_homo[0] / pt_homo[2], pt_homo[1] / pt_homo[2])\n",
    "\n",
    "    def undistort(self, x, y):\n",
    "        x_norm, y_norm = self.normalize(x, y)\n",
    "        xx, yy = self.proj(x_norm, y_norm)\n",
    "        x_c = xx * self.coef(xx, yy)\n",
    "        y_c = yy * self.coef(xx, yy)\n",
    "#         xx_1, yy_1, a = np.array([[self.rH[2][2], 0, -self.rH[0][2]], [0, self.rH[2][2], -self.rH[1][2]], [0, 0, 1]], dtype=np.float32).dot(self.rH).dot(np.array([x_c, y_c, 1], dtype=np.float32))\n",
    "        x_res, y_res = self.unnormalize(x_c, y_c)\n",
    "        return (x_res, y_res)"
   ]
  },
  {
   "cell_type": "code",
   "execution_count": 9,
   "metadata": {},
   "outputs": [],
   "source": [
    "remapper = UndistortRemap(image_size, K, D, rH)\n",
    "\n",
    "rmap_x = np.zeros(shape=(image_size[1], image_size[0]), dtype=np.float32)\n",
    "rmap_y = np.zeros(shape=(image_size[1], image_size[0]), dtype=np.float32)\n",
    "\n",
    "width = image_size[0]\n",
    "height = image_size[1]\n",
    "\n",
    "for x in np.arange(0, width):\n",
    "    for y in np.arange(0, height):\n",
    "        x_res, y_res = remapper.undistort(x, y)\n",
    "        if x_res >= 0 and x_res < width:\n",
    "            rmap_x[y, x] = x_res\n",
    "        if y_res >= 0 and y_res < height:\n",
    "            rmap_y[y, x] = y_res"
   ]
  },
  {
   "cell_type": "code",
   "execution_count": 10,
   "metadata": {},
   "outputs": [
    {
     "data": {
      "text/plain": [
       "True"
      ]
     },
     "execution_count": 10,
     "metadata": {},
     "output_type": "execute_result"
    }
   ],
   "source": [
    "my_undistort = cv2.remap(i, rmap_x, rmap_y, interpolation=cv2.INTER_LINEAR)\n",
    "\n",
    "cv2.imwrite(\"myundistort.png\", my_undistort)"
   ]
  },
  {
   "cell_type": "markdown",
   "metadata": {},
   "source": [
    "![undistort-преобразование](./myundistort.png)"
   ]
  },
  {
   "cell_type": "markdown",
   "metadata": {},
   "source": [
    "## Задача 2\n",
    "Вычислить карту пересчета для преобразования undistort в определенной области исходного изображения (ROI + Undistort)"
   ]
  },
  {
   "cell_type": "code",
   "execution_count": 11,
   "metadata": {},
   "outputs": [],
   "source": [
    "roi_x = 100\n",
    "roi_y = 600\n",
    "roi_w = 1000\n",
    "roi_h = 400"
   ]
  },
  {
   "cell_type": "code",
   "execution_count": 12,
   "metadata": {},
   "outputs": [],
   "source": [
    "class RoiUndistortRemap:\n",
    "    def __init__(self, x, y, w, h, undistort_remapper):\n",
    "        self.x0 = x\n",
    "        self.y0 = y\n",
    "        self.w = w\n",
    "        self.h = h\n",
    "        self.undistort_remapper = undistort_remapper\n",
    "    \n",
    "    def x(self, x, y):\n",
    "        if x >= self.w or y >= self.h:\n",
    "            return 0.0\n",
    "        return self.undistort_remapper.undistort(x+self.x0,y)[0]\n",
    "\n",
    "    def y(self, x, y):\n",
    "        if x >= self.w or y >= self.h:\n",
    "            return 0.0\n",
    "        return self.undistort_remapper.undistort(x,y+self.y0)[1]"
   ]
  },
  {
   "cell_type": "code",
   "execution_count": 13,
   "metadata": {},
   "outputs": [],
   "source": [
    "remapper = UndistortRemap(image_size, K, D, rH)\n",
    "roi_remapper = RoiUndistortRemap(roi_x, roi_y, roi_w, roi_h, remapper)\n",
    "rmap_x = np.zeros(shape=(roi_h, roi_w), dtype=np.float32)\n",
    "rmap_y = np.zeros(shape=(roi_h, roi_w), dtype=np.float32)\n",
    "\n",
    "for x in np.arange(0, roi_w):\n",
    "    for y in np.arange(0, roi_h):\n",
    "        rmap_x[y, x] = roi_remapper.x(x, y)\n",
    "        rmap_y[y, x] = roi_remapper.y(x, y)"
   ]
  },
  {
   "cell_type": "code",
   "execution_count": 14,
   "metadata": {},
   "outputs": [],
   "source": [
    "# class UndistortRemap:\n",
    "#     def __init__(self, image_size, K, D, rH):\n",
    "#         self.image_size = image_size\n",
    "#         self.K = K\n",
    "#         self.D = D\n",
    "#         self.rH = rH\n",
    "        \n",
    "#     def r2(self, x, y):\n",
    "#         return (x**2 + y**2)\n",
    "    \n",
    "#     def coef(self, x, y):\n",
    "#         r2_ = self.r2(x, y)\n",
    "#         r4_ = r2_ ** 2\n",
    "#         r6_ = r4_ * r2_\n",
    "#         return (1 + self.D[0] * r2_ + self.D[1] * r4_ + self.D[4] * r6_)\n",
    "        \n",
    "#     def normalize(self, x, y):\n",
    "#         return ((x - self.K[0][2]) / self.K[0][0], (y - self.K[1][2]) / self.K[1][1])\n",
    "    \n",
    "#     def unnormalize(self, x, y):\n",
    "#         return (x * self.K[0][0] + self.K[0][2], y * self.K[1][1] + self.K[1][2])\n",
    "    \n",
    "#     def proj(self, x, y):\n",
    "#         pt_homo = np.linalg.inv(self.rH).dot(np.array([x, y, 1], dtype=np.float32).T)\n",
    "#         return (pt_homo[0] / pt_homo[2], pt_homo[1] / pt_homo[2])\n",
    "\n",
    "#     def undistort(self, x, y):\n",
    "#         x_norm, y_norm = self.normalize(x, y)\n",
    "#         xx, yy = self.proj(x_norm, y_norm)\n",
    "#         x_c = xx * self.coef(xx, yy)\n",
    "#         y_c = yy * self.coef(xx, yy)\n",
    "#         xx_1, yy_1, a = np.array([[self.rH[2][2], 0, -self.rH[0][2]], [0, self.rH[2][2], -self.rH[1][2]], [0, 0, 1]], dtype=np.float32).dot(self.rH).dot(np.array([x_c, y_c, 1], dtype=np.float32))\n",
    "#         x_res, y_res = self.unnormalize(xx_1, yy_1)\n",
    "#         return (x_res, y_res)\n",
    "    \n",
    "#     def roi_undistort(self, x, y, roi_x, roi_y, roi_w, roi_h):\n",
    "#         if x >= roi_x and x <= roi_x+roi_w and y >= roi_y and y <= roi_y+roi_h:\n",
    "#             x_res, y_res = self.undistort(x, y)\n",
    "#         else:\n",
    "#             x_res = x\n",
    "#             y_res = y\n",
    "#         return x_res, y_res"
   ]
  },
  {
   "cell_type": "code",
   "execution_count": 15,
   "metadata": {},
   "outputs": [],
   "source": [
    "# remapper = UndistortRemap(image_size, K, D, rH)\n",
    "\n",
    "# rmap_x = np.zeros(shape=(image_size[1], image_size[0]), dtype=np.float32)\n",
    "# rmap_y = np.zeros(shape=(image_size[1], image_size[0]), dtype=np.float32)\n",
    "\n",
    "# width = image_size[0]\n",
    "# height = image_size[1]\n",
    "\n",
    "# for x in np.arange(0, width):\n",
    "#     for y in np.arange(0, height):\n",
    "#         x_res, y_res = remapper.roi_undistort(x, y, roi_x, roi_y, roi_w, roi_h)\n",
    "#         if x_res >= 0 and x_res < width and y_res >= 0 and y_res < height:\n",
    "#             rmap_x[y, x] = x_res\n",
    "#             rmap_y[y, x] = y_res"
   ]
  },
  {
   "cell_type": "code",
   "execution_count": 16,
   "metadata": {},
   "outputs": [
    {
     "data": {
      "text/plain": [
       "True"
      ]
     },
     "execution_count": 16,
     "metadata": {},
     "output_type": "execute_result"
    }
   ],
   "source": [
    "undistort_roi = cv2.remap(i, rmap_x, rmap_y, interpolation=cv2.INTER_LINEAR)\n",
    "\n",
    "cv2.imwrite(\"roi_undistort.png\", undistort_roi)"
   ]
  },
  {
   "cell_type": "markdown",
   "metadata": {},
   "source": [
    "![undistort-roi](./roi_undistort.png)"
   ]
  },
  {
   "cell_type": "markdown",
   "metadata": {},
   "source": [
    "## Задача 3\n",
    "Вычислить карту пересчета преобразования birdeye после выполнения undistort. Сравнить с результатами birdeye из лекции"
   ]
  },
  {
   "cell_type": "code",
   "execution_count": 24,
   "metadata": {},
   "outputs": [],
   "source": [
    "class BirdeyeRemap:\n",
    "    def __init__(self, H):\n",
    "        self.H = H\n",
    "    \n",
    "    def proj(self, x, y):\n",
    "        pt_homo = self.H @ np.array([x, y, 1], dtype=np.float32).T\n",
    "        return (pt_homo[0] / pt_homo[2], pt_homo[1] / pt_homo[2])\n",
    "    \n",
    "    def x(self, x, y):\n",
    "        return self.proj(x, y)[0]\n",
    "    \n",
    "    def y(self, x, y):\n",
    "        return self.proj(x, y)[1]"
   ]
  },
  {
   "cell_type": "code",
   "execution_count": 31,
   "metadata": {},
   "outputs": [
    {
     "name": "stdout",
     "output_type": "stream",
     "text": [
      "R|t = \n",
      "[[ 1.000000e+00  0.000000e+00  0.000000e+00  0.000000e+00]\n",
      " [-0.000000e+00 -4.371139e-08 -1.000000e+00  1.000000e+01]\n",
      " [ 0.000000e+00  1.000000e+00 -4.371139e-08  1.000000e+01]]\n",
      "P = \n",
      "[[ 9.4337000e+02  9.9038000e+02 -4.3290886e-05  9.9037998e+03]\n",
      " [ 0.0000000e+00  4.8766998e+02 -9.4337000e+02  1.4310400e+04]\n",
      " [ 0.0000000e+00  1.0000000e+00 -4.3711388e-08  1.0000000e+01]]\n",
      "[[ 9.5320189e-01 -8.7875682e-01  3.8827081e+02]\n",
      " [-2.4479324e-02  1.7686374e-01  2.2081152e+02]\n",
      " [-4.6287762e-05 -8.5292436e-04  1.3034890e+00]]\n"
     ]
    }
   ],
   "source": [
    "# матрица камеры проекции: такая же камер, но висящая над сценой и смотрящая вниз\n",
    "r1_beye = -0.5 * np.pi\n",
    "r2_beye = 0.0\n",
    "r3_beye = 0.0\n",
    "\n",
    "t1_beye = 0.0\n",
    "t2_beye = -10 # висеть будем на высоте 10 м\n",
    "t3_beye = 10 # и на 10 м вперед относительно начала координат\n",
    "\n",
    "# матрица поворота\n",
    "R_beye = np.linalg.inv(cv2.Rodrigues(np.array([r1_beye, r2_beye, r3_beye], dtype=np.float32))[0])\n",
    "\n",
    "t_beye = np.array([[t1_beye], [t2_beye], [t3_beye]], dtype=np.float32)\n",
    "RT_beye = np.hstack((R_beye, -R_beye@t_beye))\n",
    "print(f\"R|t = \\n{RT_beye}\")\n",
    "\n",
    "# матрица камеры наблюдения\n",
    "P_beye = K @ RT_beye\n",
    "print(f\"P = \\n{P_beye}\")\n",
    "\n",
    "# уравнение плоскости проекции\n",
    "plane = np.array([0,1,0,0], dtype=np.float32) # Y = 0\n",
    "\n",
    "# применим формулы для вычисления гомографии с предыдущей лекции\n",
    "P_plane = np.vstack((P_beye, plane))\n",
    "H = P @ np.linalg.inv(P_plane)[:, :3]\n",
    "\n",
    "print(H)"
   ]
  },
  {
   "cell_type": "code",
   "execution_count": 26,
   "metadata": {},
   "outputs": [
    {
     "data": {
      "text/plain": [
       "True"
      ]
     },
     "execution_count": 26,
     "metadata": {},
     "output_type": "execute_result"
    }
   ],
   "source": [
    "img_homo = np.zeros_like(my_undistort)\n",
    "remapper = BirdeyeRemap(H)\n",
    "\n",
    "width = image_size[0]\n",
    "height = image_size[1]\n",
    "\n",
    "for x in np.arange(0, width):\n",
    "    for y in np.arange(0, height):\n",
    "        xx, yy = remapper.proj(x,y)\n",
    "        if xx >= 0 and xx < width and yy >= 0 and yy < height:\n",
    "            img_homo[y,x,:] = bilinear_kernel(my_undistort, xx, yy)\n",
    "\n",
    "cv2.imwrite(\"beye.png\", img_homo)"
   ]
  },
  {
   "cell_type": "markdown",
   "metadata": {},
   "source": [
    "Преобразование birdeye после undistort\n",
    "![beye](./beye.png)"
   ]
  },
  {
   "cell_type": "code",
   "execution_count": 32,
   "metadata": {},
   "outputs": [
    {
     "data": {
      "text/plain": [
       "True"
      ]
     },
     "execution_count": 32,
     "metadata": {},
     "output_type": "execute_result"
    }
   ],
   "source": [
    "img_homo = np.zeros_like(i)\n",
    "remapper = BirdeyeRemap(H)\n",
    "\n",
    "width = image_size[0]\n",
    "height = image_size[1]\n",
    "\n",
    "for x in np.arange(0, width):\n",
    "    for y in np.arange(0, height):\n",
    "        xx, yy = remapper.proj(x,y)\n",
    "        if xx >= 0 and xx < width and yy >= 0 and yy < height:\n",
    "            img_homo[y,x,:] = bilinear_kernel(i, xx, yy)\n",
    "\n",
    "cv2.imwrite(\"beye_i.png\", img_homo)"
   ]
  },
  {
   "cell_type": "markdown",
   "metadata": {},
   "source": [
    "Преобразование birdeye до undistort\n",
    "![beye_i](./beye_i.png)"
   ]
  },
  {
   "cell_type": "code",
   "execution_count": null,
   "metadata": {},
   "outputs": [],
   "source": []
  }
 ],
 "metadata": {
  "kernelspec": {
   "display_name": "Python 3",
   "language": "python",
   "name": "python3"
  },
  "language_info": {
   "codemirror_mode": {
    "name": "ipython",
    "version": 3
   },
   "file_extension": ".py",
   "mimetype": "text/x-python",
   "name": "python",
   "nbconvert_exporter": "python",
   "pygments_lexer": "ipython3",
   "version": "3.8.3"
  }
 },
 "nbformat": 4,
 "nbformat_minor": 4
}
